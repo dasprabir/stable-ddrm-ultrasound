{
 "cells": [
  {
   "cell_type": "code",
   "execution_count": 9,
   "id": "da23fac1-9f88-417c-8141-95ad60cfa644",
   "metadata": {},
   "outputs": [
    {
     "name": "stdout",
     "output_type": "stream",
     "text": [
      "Directory not found: Stable_DDRM/exp/datasets/NewRFdata\n"
     ]
    }
   ],
   "source": [
    "import os\n",
    "\n",
    "candidate = \"Stable_DDRM/exp/datasets/NewRFdata\"\n",
    "if os.path.isdir(candidate):\n",
    "    print(\"Contents of\", candidate, \":\\n\", os.listdir(candidate))\n",
    "else:\n",
    "    print(\"Directory not found:\", candidate)\n"
   ]
  },
  {
   "cell_type": "code",
   "execution_count": 10,
   "id": "71b5a43c-e464-4ebc-850c-eb062947a65c",
   "metadata": {},
   "outputs": [
    {
     "name": "stdout",
     "output_type": "stream",
     "text": [
      "Folders containing .RFD files:\n"
     ]
    }
   ],
   "source": [
    "import os\n",
    "\n",
    "# Starting point for your project\n",
    "root = \"/mnt/data/projects/minds/PDAS-M2-2025/Stable_DDRM/exp/datasets\"\n",
    "\n",
    "matches = []\n",
    "for dirpath, dirnames, filenames in os.walk(root):\n",
    "    # If you know the folder should contain .RFD files, check for that extension:\n",
    "    if any(fname.lower().endswith(\".rfd\") for fname in filenames):\n",
    "        matches.append(dirpath)\n",
    "\n",
    "print(\"Folders containing .RFD files:\")\n",
    "for m in matches:\n",
    "    print(\"  \", m)\n"
   ]
  },
  {
   "cell_type": "code",
   "execution_count": 2,
   "id": "ff2fa3c2-2f3b-409d-af04-5d92bae86372",
   "metadata": {},
   "outputs": [
    {
     "ename": "FileNotFoundError",
     "evalue": "[Errno 2] No such file or directory: 'exp/datasets/NewRFdata'",
     "output_type": "error",
     "traceback": [
      "\u001b[0;31m---------------------------------------------------------------------------\u001b[0m",
      "\u001b[0;31mFileNotFoundError\u001b[0m                         Traceback (most recent call last)",
      "Cell \u001b[0;32mIn[2], line 10\u001b[0m\n\u001b[1;32m      7\u001b[0m rf_dir \u001b[38;5;241m=\u001b[39m \u001b[38;5;124m\"\u001b[39m\u001b[38;5;124mexp/datasets/NewRFdata\u001b[39m\u001b[38;5;124m\"\u001b[39m\n\u001b[1;32m      9\u001b[0m \u001b[38;5;66;03m# List and sort all .RFD files there\u001b[39;00m\n\u001b[0;32m---> 10\u001b[0m rfd_files \u001b[38;5;241m=\u001b[39m \u001b[38;5;28msorted\u001b[39m([f \u001b[38;5;28;01mfor\u001b[39;00m f \u001b[38;5;129;01min\u001b[39;00m \u001b[43mos\u001b[49m\u001b[38;5;241;43m.\u001b[39;49m\u001b[43mlistdir\u001b[49m\u001b[43m(\u001b[49m\u001b[43mrf_dir\u001b[49m\u001b[43m)\u001b[49m \u001b[38;5;28;01mif\u001b[39;00m f\u001b[38;5;241m.\u001b[39mlower()\u001b[38;5;241m.\u001b[39mendswith(\u001b[38;5;124m'\u001b[39m\u001b[38;5;124m.rfd\u001b[39m\u001b[38;5;124m'\u001b[39m)])\n\u001b[1;32m     11\u001b[0m \u001b[38;5;28mprint\u001b[39m(\u001b[38;5;124m\"\u001b[39m\u001b[38;5;124mFound\u001b[39m\u001b[38;5;124m\"\u001b[39m, \u001b[38;5;28mlen\u001b[39m(rfd_files), \u001b[38;5;124m\"\u001b[39m\u001b[38;5;124m.RFD files. Example:\u001b[39m\u001b[38;5;124m\"\u001b[39m, rfd_files[:\u001b[38;5;241m5\u001b[39m])\n\u001b[1;32m     13\u001b[0m rf_all \u001b[38;5;241m=\u001b[39m []\n",
      "\u001b[0;31mFileNotFoundError\u001b[0m: [Errno 2] No such file or directory: 'exp/datasets/NewRFdata'"
     ]
    }
   ],
   "source": [
    "import os\n",
    "import numpy as np\n",
    "import struct\n",
    "import scipy.io\n",
    "\n",
    "# Correct folder containing your .RFD files\n",
    "rf_dir = \"exp/datasets/NewRFdata\"\n",
    "\n",
    "# List and sort all .RFD files there\n",
    "rfd_files = sorted([f for f in os.listdir(rf_dir) if f.lower().endswith('.rfd')])\n",
    "print(\"Found\", len(rfd_files), \".RFD files. Example:\", rfd_files[:5])\n",
    "\n",
    "rf_all = []\n",
    "for filename in rfd_files:\n",
    "    file_path = os.path.join(rf_dir, filename)\n",
    "    with open(file_path, 'rb') as f:\n",
    "        f.read(6)  # skip ID\n",
    "        f.read(4)  # skip acquisition code\n",
    "        f.read(2)  # skip image number\n",
    "        NbLignes = struct.unpack('<H', f.read(2))[0]\n",
    "        NbEch    = struct.unpack('<H', f.read(2))[0]\n",
    "        data     = np.fromfile(f, dtype=np.int16, count=NbEch * NbLignes)\n",
    "        rf_image = data.reshape((NbEch, NbLignes))\n",
    "        rf_all.append(rf_image)\n",
    "\n",
    "# Stack into a 3D array: (depth, lines, frames)\n",
    "rf_stack = np.stack(rf_all, axis=2)\n",
    "\n",
    "# Save to .mat so you can load/visualize easily\n",
    "out_path = \"/mnt/data/all_rf_data_from_RFDs.mat\"\n",
    "scipy.io.savemat(out_path, {\"rf_stack\": rf_stack})\n",
    "print(\"Saved combined RF stack (shape:\", rf_stack.shape, \") to\", out_path)\n"
   ]
  },
  {
   "cell_type": "code",
   "execution_count": null,
   "id": "7df247ad-47f9-40b7-b6a3-7f1bb952f817",
   "metadata": {},
   "outputs": [],
   "source": []
  }
 ],
 "metadata": {
  "kernelspec": {
   "display_name": "Python 3 (ipykernel)",
   "language": "python",
   "name": "python3"
  },
  "language_info": {
   "codemirror_mode": {
    "name": "ipython",
    "version": 3
   },
   "file_extension": ".py",
   "mimetype": "text/x-python",
   "name": "python",
   "nbconvert_exporter": "python",
   "pygments_lexer": "ipython3",
   "version": "3.10.12"
  }
 },
 "nbformat": 4,
 "nbformat_minor": 5
}
